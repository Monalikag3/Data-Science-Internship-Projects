{
 "cells": [
  {
   "cell_type": "code",
   "execution_count": 10,
   "id": "f2bb0996",
   "metadata": {},
   "outputs": [
    {
     "name": "stdout",
     "output_type": "stream",
     "text": [
      "2 2\n",
      "1 2\n",
      "3 4\n",
      "[[1 3]\n",
      " [2 4]]\n",
      "[1 2 3 4]\n"
     ]
    }
   ],
   "source": [
    "import numpy\n",
    "n, m = map(int, input().split())\n",
    "x = []\n",
    "for i in range(n):\n",
    "    row = list(map(int, input().split()))\n",
    "    x.append(row)\n",
    "x1 = numpy.array(x)\n",
    "print(numpy.transpose(x1))\n",
    "print(x1.flatten())"
   ]
  },
  {
   "cell_type": "code",
   "execution_count": null,
   "id": "e142801d",
   "metadata": {},
   "outputs": [],
   "source": []
  }
 ],
 "metadata": {
  "kernelspec": {
   "display_name": "Python 3",
   "language": "python",
   "name": "python3"
  },
  "language_info": {
   "codemirror_mode": {
    "name": "ipython",
    "version": 3
   },
   "file_extension": ".py",
   "mimetype": "text/x-python",
   "name": "python",
   "nbconvert_exporter": "python",
   "pygments_lexer": "ipython3",
   "version": "3.8.8"
  }
 },
 "nbformat": 4,
 "nbformat_minor": 5
}
