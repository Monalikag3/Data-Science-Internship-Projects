{
 "cells": [
  {
   "cell_type": "code",
   "execution_count": 1,
   "id": "f96713a7",
   "metadata": {},
   "outputs": [
    {
     "name": "stdout",
     "output_type": "stream",
     "text": [
      "2 2\n",
      " 3 2\n",
      "1 4\n",
      "[2.5 2.5]\n",
      "[1. 1.]\n",
      "1.11803398875\n"
     ]
    }
   ],
   "source": [
    "import numpy\n",
    "N, M= list(map(int, input().split()))\n",
    "a = numpy.array([list(map(int, input().split())) for _ in range(N)])\n",
    "print(numpy.mean(a, axis=1))\n",
    "print(numpy.var(a, axis=0))\n",
    "print(round(numpy.std(a, axis=None), 11))"
   ]
  },
  {
   "cell_type": "code",
   "execution_count": null,
   "id": "3ec2b074",
   "metadata": {},
   "outputs": [],
   "source": []
  }
 ],
 "metadata": {
  "kernelspec": {
   "display_name": "Python 3",
   "language": "python",
   "name": "python3"
  },
  "language_info": {
   "codemirror_mode": {
    "name": "ipython",
    "version": 3
   },
   "file_extension": ".py",
   "mimetype": "text/x-python",
   "name": "python",
   "nbconvert_exporter": "python",
   "pygments_lexer": "ipython3",
   "version": "3.8.8"
  }
 },
 "nbformat": 4,
 "nbformat_minor": 5
}
