{
 "cells": [
  {
   "cell_type": "code",
   "execution_count": null,
   "id": "ece4b03d",
   "metadata": {},
   "outputs": [],
   "source": [
    "import numpy\n",
    "n = tuple(map(int,input().split()))\n",
    "print(numpy.zeros(n,dtype = numpy.int))\n",
    "print(numpy.ones(n,dtype = numpy.int))"
   ]
  },
  {
   "cell_type": "code",
   "execution_count": null,
   "id": "ff33149c",
   "metadata": {},
   "outputs": [],
   "source": []
  }
 ],
 "metadata": {
  "kernelspec": {
   "display_name": "Python 3",
   "language": "python",
   "name": "python3"
  },
  "language_info": {
   "codemirror_mode": {
    "name": "ipython",
    "version": 3
   },
   "file_extension": ".py",
   "mimetype": "text/x-python",
   "name": "python",
   "nbconvert_exporter": "python",
   "pygments_lexer": "ipython3",
   "version": "3.8.8"
  }
 },
 "nbformat": 4,
 "nbformat_minor": 5
}
