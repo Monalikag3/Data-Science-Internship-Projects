{
 "cells": [
  {
   "cell_type": "code",
   "execution_count": null,
   "id": "1cf31296",
   "metadata": {},
   "outputs": [],
   "source": [
    "import math\n",
    "import os\n",
    "import random\n",
    "import re\n",
    "import sys\n",
    "\n",
    "\n",
    "\n",
    "if __name__ == '__main__':\n",
    "    N = int(input().strip())\n",
    "if N%2==1:\n",
    "    print(\"Weird\")\n",
    "elif not(N%2==1) and N>=2 and N<=5:\n",
    "    print(\"Not Weird\")\n",
    "elif not(N%2==1) and N>=6 and N<=20:\n",
    "    print(\"Weird\")\n",
    "else:\n",
    "    print(\"Not Weird\")"
   ]
  }
 ],
 "metadata": {
  "kernelspec": {
   "display_name": "Python 3",
   "language": "python",
   "name": "python3"
  },
  "language_info": {
   "codemirror_mode": {
    "name": "ipython",
    "version": 3
   },
   "file_extension": ".py",
   "mimetype": "text/x-python",
   "name": "python",
   "nbconvert_exporter": "python",
   "pygments_lexer": "ipython3",
   "version": "3.8.8"
  }
 },
 "nbformat": 4,
 "nbformat_minor": 5
}
