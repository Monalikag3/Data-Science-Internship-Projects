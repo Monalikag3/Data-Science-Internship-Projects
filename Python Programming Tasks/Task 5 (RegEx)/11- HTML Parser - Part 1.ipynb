{
 "cells": [
  {
   "cell_type": "code",
   "execution_count": 1,
   "id": "a509a1bf",
   "metadata": {},
   "outputs": [
    {
     "name": "stdout",
     "output_type": "stream",
     "text": [
      "2\n",
      "<html><head><title>HTML Parser - I</title></head>\n",
      "<body data-modal-target class='1'><h1>HackerRank</h1><br /></body></html>\n",
      "Start : html\n",
      "Start : head\n",
      "Start : title\n",
      "End   : title\n",
      "End   : head\n",
      "Start : body\n",
      "-> data-modal-target > None\n",
      "-> class > 1\n",
      "Start : h1\n",
      "End   : h1\n",
      "Empty : br\n",
      "End   : body\n",
      "End   : html\n"
     ]
    }
   ],
   "source": [
    "from html.parser import HTMLParser\n",
    "class MyHTMLParser(HTMLParser):\n",
    "    def handle_starttag(self, tag, attrs):        \n",
    "        print ('Start :',tag)\n",
    "        for ele in attrs:\n",
    "            print ('->',ele[0],'>',ele[1])\n",
    "            \n",
    "    def handle_endtag(self, tag):\n",
    "        print ('End   :',tag)\n",
    "        \n",
    "    def handle_startendtag(self, tag, attrs):\n",
    "        print ('Empty :',tag)\n",
    "        for ele in attrs:\n",
    "            print ('->',ele[0],'>',ele[1])\n",
    "            \n",
    "MyParser = MyHTMLParser()\n",
    "MyParser.feed(''.join([input().strip() for _ in range(int(input()))]))"
   ]
  },
  {
   "cell_type": "code",
   "execution_count": null,
   "id": "740a0688",
   "metadata": {},
   "outputs": [],
   "source": []
  }
 ],
 "metadata": {
  "kernelspec": {
   "display_name": "Python 3",
   "language": "python",
   "name": "python3"
  },
  "language_info": {
   "codemirror_mode": {
    "name": "ipython",
    "version": 3
   },
   "file_extension": ".py",
   "mimetype": "text/x-python",
   "name": "python",
   "nbconvert_exporter": "python",
   "pygments_lexer": "ipython3",
   "version": "3.8.8"
  }
 },
 "nbformat": 4,
 "nbformat_minor": 5
}
