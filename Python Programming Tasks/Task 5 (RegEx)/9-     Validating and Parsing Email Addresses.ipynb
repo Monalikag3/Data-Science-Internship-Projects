{
 "cells": [
  {
   "cell_type": "code",
   "execution_count": null,
   "id": "123ca748",
   "metadata": {},
   "outputs": [],
   "source": [
    "import re\n",
    "\n",
    "N = int(input())\n",
    "\n",
    "for i in range(N):\n",
    "    name, email = input().split()\n",
    "    pattern=\"<[a-z][a-zA-Z0-9\\-\\.\\_]+@[a-zA-Z]+\\.[a-zA-Z]{1,3}>\"\n",
    "    if bool(re.match(pattern, email)):\n",
    "        print(name,email)"
   ]
  }
 ],
 "metadata": {
  "kernelspec": {
   "display_name": "Python 3",
   "language": "python",
   "name": "python3"
  },
  "language_info": {
   "codemirror_mode": {
    "name": "ipython",
    "version": 3
   },
   "file_extension": ".py",
   "mimetype": "text/x-python",
   "name": "python",
   "nbconvert_exporter": "python",
   "pygments_lexer": "ipython3",
   "version": "3.8.8"
  }
 },
 "nbformat": 4,
 "nbformat_minor": 5
}
