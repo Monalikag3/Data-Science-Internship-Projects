{
 "cells": [
  {
   "cell_type": "code",
   "execution_count": null,
   "id": "04de9d93",
   "metadata": {},
   "outputs": [],
   "source": [
    "import math\n",
    "ab=int(input())\n",
    "bc=int(input())\n",
    "h=math.hypot(ab,bc)\n",
    "h1=h/2\n",
    "bca=math.asin(1*ab/h)\n",
    "bm=math.sqrt((bc**2+h1**2)-(2*bc*h1*math.cos(bca)))\n",
    "mbc=math.asin(math.sin(bca)*h1/bm)\n",
    "print(int(round(math.degrees(mbc),0)),'\\u00B0',sep='')"
   ]
  }
 ],
 "metadata": {
  "kernelspec": {
   "display_name": "Python 3",
   "language": "python",
   "name": "python3"
  },
  "language_info": {
   "codemirror_mode": {
    "name": "ipython",
    "version": 3
   },
   "file_extension": ".py",
   "mimetype": "text/x-python",
   "name": "python",
   "nbconvert_exporter": "python",
   "pygments_lexer": "ipython3",
   "version": "3.8.8"
  }
 },
 "nbformat": 4,
 "nbformat_minor": 5
}
