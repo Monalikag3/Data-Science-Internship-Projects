import cmath
z = complex(input())
z = complex(z)

print(cmath.polar(z)[0])
print(cmath.polar(z)[1])
