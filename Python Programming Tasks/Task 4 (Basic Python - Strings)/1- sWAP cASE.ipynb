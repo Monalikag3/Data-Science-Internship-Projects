{
 "cells": [
  {
   "cell_type": "code",
   "execution_count": null,
   "id": "8aac1f43",
   "metadata": {},
   "outputs": [],
   "source": [
    "def swap_case(s):\n",
    "    output = ''\n",
    "    for i in s:\n",
    "        if (i.isupper() == True):\n",
    "            output += (i.lower())\n",
    "        elif (i.islower() == True):\n",
    "            output += (i.upper())\n",
    "        else:\n",
    "            output += i\n",
    "    return output\n",
    "\n",
    "if __name__ == '__main__':\n",
    "    s = input()\n",
    "    result = swap_case(s)\n",
    "    print(result)"
   ]
  }
 ],
 "metadata": {
  "kernelspec": {
   "display_name": "Python 3",
   "language": "python",
   "name": "python3"
  },
  "language_info": {
   "codemirror_mode": {
    "name": "ipython",
    "version": 3
   },
   "file_extension": ".py",
   "mimetype": "text/x-python",
   "name": "python",
   "nbconvert_exporter": "python",
   "pygments_lexer": "ipython3",
   "version": "3.8.8"
  }
 },
 "nbformat": 4,
 "nbformat_minor": 5
}
