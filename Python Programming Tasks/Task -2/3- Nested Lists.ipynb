{
 "cells": [
  {
   "cell_type": "code",
   "execution_count": null,
   "id": "957ed32f",
   "metadata": {},
   "outputs": [],
   "source": [
    "result = []\n",
    "report_card = []\n",
    "if __name__ == '__main__':\n",
    "    for _ in range(int(input())):\n",
    "        name = input()\n",
    "        score = float(input())\n",
    "        result += [[name, score]]\n",
    "        report_card += [score]\n",
    "    z = sorted(list(set(report_card)))[1]\n",
    "    \n",
    "    for x,y in sorted(result):\n",
    "        if y==z:\n",
    "            print(x)    "
   ]
  },
  {
   "cell_type": "code",
   "execution_count": null,
   "id": "c0063de0",
   "metadata": {},
   "outputs": [],
   "source": []
  }
 ],
 "metadata": {
  "kernelspec": {
   "display_name": "Python 3",
   "language": "python",
   "name": "python3"
  },
  "language_info": {
   "codemirror_mode": {
    "name": "ipython",
    "version": 3
   },
   "file_extension": ".py",
   "mimetype": "text/x-python",
   "name": "python",
   "nbconvert_exporter": "python",
   "pygments_lexer": "ipython3",
   "version": "3.8.8"
  }
 },
 "nbformat": 4,
 "nbformat_minor": 5
}
