{
 "cells": [
  {
   "cell_type": "code",
   "execution_count": null,
   "id": "2d275a62",
   "metadata": {},
   "outputs": [],
   "source": [
    "n = int(input())\n",
    "english = set(input().split())\n",
    "b = int(input())\n",
    "french = set(input().split())\n",
    "p = len(english.difference(french))\n",
    "print(p)"
   ]
  }
 ],
 "metadata": {
  "kernelspec": {
   "display_name": "Python 3",
   "language": "python",
   "name": "python3"
  },
  "language_info": {
   "codemirror_mode": {
    "name": "ipython",
    "version": 3
   },
   "file_extension": ".py",
   "mimetype": "text/x-python",
   "name": "python",
   "nbconvert_exporter": "python",
   "pygments_lexer": "ipython3",
   "version": "3.8.8"
  }
 },
 "nbformat": 4,
 "nbformat_minor": 5
}
