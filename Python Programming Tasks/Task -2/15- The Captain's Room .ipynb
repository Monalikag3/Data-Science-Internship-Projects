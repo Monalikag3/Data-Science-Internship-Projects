{
 "cells": [
  {
   "cell_type": "code",
   "execution_count": null,
   "id": "e66635d1",
   "metadata": {},
   "outputs": [],
   "source": [
    "N = int(input())\n",
    "\n",
    "storage = map(int, input().split())\n",
    "storage = sorted(storage)\n",
    "\n",
    "for i in range(len(storage)):\n",
    "    if(i != len(storage)-1):\n",
    "        if(storage[i]!=storage[i-1] and storage[i]!=storage[i+1]):\n",
    "            print(storage[i])\n",
    "            break;\n",
    "    else:\n",
    "        print(storage[i])"
   ]
  }
 ],
 "metadata": {
  "kernelspec": {
   "display_name": "Python 3",
   "language": "python",
   "name": "python3"
  },
  "language_info": {
   "codemirror_mode": {
    "name": "ipython",
    "version": 3
   },
   "file_extension": ".py",
   "mimetype": "text/x-python",
   "name": "python",
   "nbconvert_exporter": "python",
   "pygments_lexer": "ipython3",
   "version": "3.8.8"
  }
 },
 "nbformat": 4,
 "nbformat_minor": 5
}
