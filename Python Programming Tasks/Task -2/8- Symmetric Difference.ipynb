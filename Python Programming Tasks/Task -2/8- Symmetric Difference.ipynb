{
 "cells": [
  {
   "cell_type": "code",
   "execution_count": null,
   "id": "d6da515d",
   "metadata": {},
   "outputs": [],
   "source": [
    "N = int(raw_input())\n",
    "N_set = set(map(int,raw_input().split()))\n",
    "M = int(raw_input())\n",
    "M_set = set(map(int,raw_input().split()))\n",
    "M_N = (N_set.difference(M_set)).union(M_set.difference(N_set))\n",
    "for i in sorted(list(M_N)):\n",
    "        print i"
   ]
  }
 ],
 "metadata": {
  "kernelspec": {
   "display_name": "Python 3",
   "language": "python",
   "name": "python3"
  },
  "language_info": {
   "codemirror_mode": {
    "name": "ipython",
    "version": 3
   },
   "file_extension": ".py",
   "mimetype": "text/x-python",
   "name": "python",
   "nbconvert_exporter": "python",
   "pygments_lexer": "ipython3",
   "version": "3.8.8"
  }
 },
 "nbformat": 4,
 "nbformat_minor": 5
}
