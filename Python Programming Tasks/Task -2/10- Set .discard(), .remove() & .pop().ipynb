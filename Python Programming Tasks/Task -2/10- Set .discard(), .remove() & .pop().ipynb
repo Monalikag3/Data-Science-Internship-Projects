{
 "cells": [
  {
   "cell_type": "code",
   "execution_count": null,
   "id": "92e6c836",
   "metadata": {},
   "outputs": [],
   "source": [
    "n = input()\n",
    "n1 = set(map(int, input().split()))\n",
    "for i in range(int(input())):\n",
    "    n2 = input().split()\n",
    "    if n2[0] == 'pop':\n",
    "        n1.pop()\n",
    "    elif n2 == 'remove':\n",
    "        n1.remove(int(n2[1]))\n",
    "    else:\n",
    "        n1.discard(int(n2[1]))\n",
    "print(sum(n1))"
   ]
  }
 ],
 "metadata": {
  "kernelspec": {
   "display_name": "Python 3",
   "language": "python",
   "name": "python3"
  },
  "language_info": {
   "codemirror_mode": {
    "name": "ipython",
    "version": 3
   },
   "file_extension": ".py",
   "mimetype": "text/x-python",
   "name": "python",
   "nbconvert_exporter": "python",
   "pygments_lexer": "ipython3",
   "version": "3.8.8"
  }
 },
 "nbformat": 4,
 "nbformat_minor": 5
}
