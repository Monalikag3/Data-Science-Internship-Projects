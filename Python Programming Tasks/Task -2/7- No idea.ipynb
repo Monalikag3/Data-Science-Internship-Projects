{
 "cells": [
  {
   "cell_type": "code",
   "execution_count": null,
   "id": "73aa2f7a",
   "metadata": {},
   "outputs": [],
   "source": [
    "n_m = raw_input().split()\n",
    "n_m = map(int, n_m)\n",
    "n = map(int, raw_input().split())\n",
    "A = set(map(int, raw_input().split()))\n",
    "B = set(map(int, raw_input().split()))\n",
    "\n",
    "happiness = 0\n",
    "for i in n:\n",
    "    if i in A:\n",
    "        happiness += 1\n",
    "    elif i in B:\n",
    "        happiness -= 1\n",
    "\n",
    "print happiness"
   ]
  }
 ],
 "metadata": {
  "kernelspec": {
   "display_name": "Python 3",
   "language": "python",
   "name": "python3"
  },
  "language_info": {
   "codemirror_mode": {
    "name": "ipython",
    "version": 3
   },
   "file_extension": ".py",
   "mimetype": "text/x-python",
   "name": "python",
   "nbconvert_exporter": "python",
   "pygments_lexer": "ipython3",
   "version": "3.8.8"
  }
 },
 "nbformat": 4,
 "nbformat_minor": 5
}
